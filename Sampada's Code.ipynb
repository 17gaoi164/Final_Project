{
 "cells": [
  {
   "cell_type": "code",
   "execution_count": null,
   "metadata": {},
   "outputs": [
    {
     "name": "stdout",
     "output_type": "stream",
     "text": [
      "Once upon a time, there was a girl named Cinderella. She lived with her step-mother, Lady Tremaine, and two step-sisters, Anastasia and Drizella. They would make Cinderella work all day and give her little to no food.\n",
      "It was a bright Monday mornig. Cinderella's step mom drusted into her room and ordered her to clean the house. 'I want the house clean by 12!', Lady Tremaine yelled.\n"
     ]
    }
   ],
   "source": [
    "    points = 0\n",
    "\n",
    "def scene1():\n",
    "\n",
    "\tprint(\"Once upon a time, there was a girl named Cinderella. She lived with her step-mother, Lady Tremaine, and two step-sisters, Anastasia and Drizella. They would make Cinderella work all day and give her little to no food.\")\n",
    "\tprint(\"It was a bright Monday mornig. Cinderella's step mom drusted into her room and ordered her to clean the house. 'I want the house clean by 12!', Lady Tremaine yelled.\")\n",
    "\n",
    "\tdecision = input(\"Do you... \\n A. Decide to do as your step-mom says. \\n B. Tell her you'll do it later. \\n C. Tell her you don't feel like doing it. \\n D. Tell her to do it herself.\\n\")\n",
    "\n",
    "\tif decision == \"A\":\n",
    "\t\tprint(\"... story continues ...\")\n",
    "\t\tpoints += 0\n",
    "\t\tscene2()\n",
    "\n",
    "\telif decision == \"B\":\n",
    "\t\tprint(\"... story continues ...\")\n",
    "\t\tpoints += 1\n",
    "\t\tscene2()\n",
    "\n",
    "\telif decision == \"C\":\n",
    "\t\tprint(\"... story continues ...\")\n",
    "\t\tpoints += 2\n",
    "\t\tscene2()\n",
    "    \n",
    "\telif decision == \"D\":\n",
    "\t\tprint(\"... story continues ...\")\n",
    "\t\tpoints += 3\n",
    "\t\tscene2()\n",
    "\n",
    "\n",
    "scene1()\n",
    "return points "
   ]
  },
  {
   "cell_type": "code",
   "execution_count": null,
   "metadata": {},
   "outputs": [],
   "source": [
    "\n",
    "def scene8():\n",
    "\n",
    "\tprint(\"You then hear that the Price is looking for you everywhere. 'He has been going to everyone's house to find the girl,' you hear Anastasia say.\")\n",
    "\tprint(\"You hear the doorbell right. Soon you hear your. step-mom caming into your room. 'Don't you dare come downstairs. He is not here for you so stay inside or else you'll get punished,' she hissed.\")\n",
    "\n",
    "\tdecision = input(\"Do you... \\n A. Decide to do as your step-mom says. \\n B. Disobey her and go downstairs.\\n\")\n",
    "\n",
    "\tif decision == \"A\":\n",
    "\t\tprint(\"... story continues ...\")\n",
    "\t\tpoints += 0\n",
    "\t\tscene9()\n",
    "\n",
    "\telif decision == \"B\":\n",
    "\t\tprint(\"... story continues ...\")\n",
    "\t\tpoints += 3\n",
    "\t\tscene10()\n",
    "\n",
    "scene8()\n"
   ]
  },
  {
   "cell_type": "code",
   "execution_count": null,
   "metadata": {},
   "outputs": [],
   "source": [
    "def scene9():\n",
    "\n",
    "\tprint(\"You hear the Prince talk to your step-mother. 'Is there anyone else in this house that is not present in room?' he asks. Your step-mother quickly responds with a firm no.\")\n",
    "\tprint(\"You then realize that you are in love with the Prince and want to see him.\")\n",
    "\n",
    "\tdecision = input(\"Do you... \\n A. Decide to obey your step-mom and stay in your room. \\n B. Disobey her and go downstairs.\\n\")\n",
    "\n",
    "\tif decision == \"A\":\n",
    "\t\tprint(\"... story continues ...\")\n",
    "\t\tpoints += 0\n",
    "\t\tscene11()\n",
    "\n",
    "\telif decision == \"B\":\n",
    "\t\tprint(\"... story continues ...\")\n",
    "\t\tpoints += 3\n",
    "\t\tscene10()\n",
    "\n",
    "scene9()"
   ]
  },
  {
   "cell_type": "code",
   "execution_count": null,
   "metadata": {},
   "outputs": [],
   "source": [
    "\n",
    "def scene10():\n",
    "\n",
    "\tprint(\"You run downstairs to the main room and lock eyes with the Prince. You step-mom sees you and tells you to go upstais.\"\n",
    "    print (\"'Wait!' the Prince says.\")\n",
    "    print (\"'She is just our house maid,' your step-mother replies eyeing you up and down.\")\n",
    "    print (\"'Let her stay as well' the Prince says.\")\n",
    "    print (\"'She hasn't left the house at all this month. She doesn't have to stay,'your step-mother says.\")\n",
    "    print(\"'Doesn't matter,' the Prince says coming towards you. He then brings out his hand forward and looks at you. Without thinking too much about your step-mother, you take his hand and he leads you towards the sofa.\")\n",
    "    print(\"'Sit,' he says. You obey him. He then order the gaurds to bring the shoe. The guard does so and hands the prince your beautiful shoes that you lost while coming back from the ball.\")\n",
    "    print(\"The Prince then brings the shoe close to your feet and askes you to put it on. You put on the shoe and it fits perfectly, just like it did during the ball.\")   \n",
    "    print(\"'Where you there?' the Prince askes you with a hopeful eyes.\")\n",
    "\n",
    "\tdecision = input(\"Do you... \\n A. Say yes \\n B. Say no.\\n\")\n",
    "\n",
    "\tif decision == \"A\":\n",
    "\t\tprint(\"... story continues ...\")\n",
    "\t\tpoints += 0\n",
    "\t\tscene12()\n",
    "\n",
    "\telif decision == \"B\":\n",
    "\t\tprint(\"... story continues ...\")\n",
    "\t\tpoints += 3\n",
    "\t\tscene12()\n",
    "\n",
    "scene10()"
   ]
  }
 ],
 "metadata": {
  "kernelspec": {
   "display_name": "Python 3",
   "language": "python",
   "name": "python3"
  },
  "language_info": {
   "codemirror_mode": {
    "name": "ipython",
    "version": 3
   },
   "file_extension": ".py",
   "mimetype": "text/x-python",
   "name": "python",
   "nbconvert_exporter": "python",
   "pygments_lexer": "ipython3",
   "version": "3.7.4"
  }
 },
 "nbformat": 4,
 "nbformat_minor": 4
}
