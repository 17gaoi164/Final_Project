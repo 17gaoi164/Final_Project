{
 "cells": [
  {
   "cell_type": "code",
   "execution_count": null,
   "metadata": {},
   "outputs": [
    {
     "name": "stdout",
     "output_type": "stream",
     "text": [
      " * Serving Flask app \"__main__\" (lazy loading)\n",
      " * Environment: production\n",
      "   WARNING: This is a development server. Do not use it in a production deployment.\n",
      "   Use a production WSGI server instead.\n",
      " * Debug mode: off\n"
     ]
    },
    {
     "name": "stderr",
     "output_type": "stream",
     "text": [
      " * Running on http://127.0.0.1:5000/ (Press CTRL+C to quit)\n",
      "127.0.0.1 - - [27/Apr/2020 23:40:21] \"\u001b[37mGET /scene3 HTTP/1.1\u001b[0m\" 200 -\n",
      "127.0.0.1 - - [27/Apr/2020 23:40:33] \"\u001b[37mPOST /scene3a HTTP/1.1\u001b[0m\" 200 -\n",
      "127.0.0.1 - - [27/Apr/2020 23:40:37] \"\u001b[37mPOST /scene4 HTTP/1.1\u001b[0m\" 200 -\n",
      "127.0.0.1 - - [27/Apr/2020 23:40:42] \"\u001b[37mGET /scene4b HTTP/1.1\u001b[0m\" 200 -\n",
      "127.0.0.1 - - [27/Apr/2020 23:40:46] \"\u001b[37mGET /scene7 HTTP/1.1\u001b[0m\" 200 -\n",
      "127.0.0.1 - - [27/Apr/2020 23:44:11] \"\u001b[37mGET /scene7 HTTP/1.1\u001b[0m\" 200 -\n",
      "127.0.0.1 - - [27/Apr/2020 23:44:35] \"\u001b[37mGET /scene7 HTTP/1.1\u001b[0m\" 200 -\n"
     ]
    }
   ],
   "source": [
    "from flask import Flask, request, render_template\n",
    "\n",
    "app = Flask(__name__, template_folder= \"templates\")\n",
    "\n",
    "@app.route(\"/scene3\")\n",
    "def scene3():\n",
    "    return render_template(\"scene3.html\")\n",
    "\n",
    "@app.route(\"/scene3a\", methods = ['post'])\n",
    "def scene3a():\n",
    "    comment = request.form['response']\n",
    "    angryWords = \"deserve desire want angry mad unfair upset fight !\"\n",
    "    submissiveWords = \"okay fine ... ok right alright sure yes agree\"\n",
    "    angry = [word for word in comment if word in angryWords]\n",
    "    submissive = [word for word in comment if word in submissiveWords]\n",
    "    if len(angry) >= 1:\n",
    "        sisters = \"They look shocked at your outburst, but they still say with arrogance, 'We're going to a ball at the palace. And you're not invited.'\"\n",
    "    elif len(submissive) >= 1:\n",
    "        sisters = \"They nod. 'Good bye', they say. The next morning, however, as you walk by their door to prepare them breakfast, you hear them laughing. 'I'm so excited for the ball!' they exclaim. You realize that last night, they had been trying on dresses for the ball.\"\n",
    "    else:\n",
    "        sisters = \"But they don't even listen to what you have to say. They laugh over your response and slam the door shut. You eavesdrop, and realize that they're trying on clothes for a ball at the palace.\"\n",
    "    return render_template(\"scene3a.html\",\n",
    "                          answer = sisters\n",
    "                          )\n",
    "\n",
    "@app.route(\"/scene4\", methods = ['post'])\n",
    "def scene4():\n",
    "    return render_template(\"scene4.html\")\n",
    "\n",
    "@app.route(\"/scene4a\")\n",
    "def scene4a():\n",
    "    global past\n",
    "    past = \"You realize the fairy godmother's magic wears off then, and in your haste running back home and away from the prince, you leave behind a shoe.\"\n",
    "    return render_template(\"scene4a.html\")\n",
    "\n",
    "@app.route(\"/scene4b\")\n",
    "def scene4b():\n",
    "    global past\n",
    "    past = \"You realize your sisters are going back home at midnight, and they will be suspicious if you are not there if they call you to make them some tea after a night out. In your haste running back home and away from the prince, you leave behind a shoe.\"\n",
    "    return render_template(\"scene4b.html\")\n",
    "\n",
    "@app.route(\"/scene4c\")\n",
    "def scene4c():\n",
    "    global past\n",
    "    past = \"You realize your sisters are going back home at midnight, and they will be suspicious if you are not there if they call you to make them some tea after a night out. In your haste running back home and away from the prince, you leave behind a shoe.\"\n",
    "    return render_template(\"scene4c.html\")\n",
    "\n",
    "@app.route(\"/scene7\")\n",
    "def scene7():\n",
    "    new_past = past\n",
    "    return render_template(\"scene7.html\",\n",
    "                          past_variable = new_past)\n",
    "    \n",
    "\n",
    "if __name__ == '__main__':\n",
    "    app.run()\n",
    "    \n"
   ]
  },
  {
   "cell_type": "code",
   "execution_count": null,
   "metadata": {},
   "outputs": [],
   "source": []
  },
  {
   "cell_type": "code",
   "execution_count": 25,
   "metadata": {},
   "outputs": [
    {
     "ename": "NameError",
     "evalue": "name 's' is not defined",
     "output_type": "error",
     "traceback": [
      "\u001b[1;31m---------------------------------------------------------------------------\u001b[0m",
      "\u001b[1;31mNameError\u001b[0m                                 Traceback (most recent call last)",
      "\u001b[1;32m<ipython-input-25-ded5ba42480f>\u001b[0m in \u001b[0;36m<module>\u001b[1;34m\u001b[0m\n\u001b[1;32m----> 1\u001b[1;33m \u001b[0ms\u001b[0m\u001b[1;33m\u001b[0m\u001b[1;33m\u001b[0m\u001b[0m\n\u001b[0m",
      "\u001b[1;31mNameError\u001b[0m: name 's' is not defined"
     ]
    }
   ],
   "source": []
  },
  {
   "cell_type": "code",
   "execution_count": null,
   "metadata": {},
   "outputs": [],
   "source": []
  },
  {
   "cell_type": "code",
   "execution_count": null,
   "metadata": {},
   "outputs": [],
   "source": []
  },
  {
   "cell_type": "code",
   "execution_count": null,
   "metadata": {},
   "outputs": [],
   "source": []
  }
 ],
 "metadata": {
  "kernelspec": {
   "display_name": "Python 3",
   "language": "python",
   "name": "python3"
  },
  "language_info": {
   "codemirror_mode": {
    "name": "ipython",
    "version": 3
   },
   "file_extension": ".py",
   "mimetype": "text/x-python",
   "name": "python",
   "nbconvert_exporter": "python",
   "pygments_lexer": "ipython3",
   "version": "3.7.4"
  }
 },
 "nbformat": 4,
 "nbformat_minor": 4
}
