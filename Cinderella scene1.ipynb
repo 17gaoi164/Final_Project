{
 "cells": [
  {
   "cell_type": "code",
   "execution_count": null,
   "metadata": {},
   "outputs": [
    {
     "name": "stdout",
     "output_type": "stream",
     "text": [
      "Once upon a time, there was a girl named Cinderella. She lived with her step-mother, Lady Tremaine, and two step-sisters, Anastasia and Drizella. They would make Cinderella work all day and give her little to no food.\n",
      "It was a bright Monday mornig. Cinderella's step mom drusted into her room and ordered her to clean the house. 'I want the house clean by 12!', Lady Tremaine yelled.\n"
     ]
    }
   ],
   "source": [
    "points = 0\n",
    "\n",
    "def scene1():\n",
    "\tprint(\"Once upon a time, there was a girl named Cinderella. She lived with her step-mother, Lady Tremaine, and two step-sisters, Anastasia and Drizella. They would make Cinderella work all day and give her little to no food.\")\n",
    "\tprint(\"It was a bright Monday mornig. Cinderella's step mom drusted into her room and ordered her to clean the house. 'I want the house clean by 12!', Lady Tremaine yelled.\")\n",
    "\n",
    "\tdecision = input(\"Do you... \\n A. Decide to do as your step-mom says. \\n B. Tell her you'll do it later. \\n C. Tell her you don't feel like doing it. \\n D. Tell her to do it herself.\\n\")\n",
    "\n",
    "\tif decision == \"A\":\n",
    "\t\tprint(\"... story continues ...\")\n",
    "\t\tpoints += 0\n",
    "\t\tscene2()\n",
    "\n",
    "\telif decision == \"B\":\n",
    "\t\tprint(\"... story continues ...\")\n",
    "\t\tpoints += 1\n",
    "\t\tscene2()\n",
    "\n",
    "\telif decision == \"C\":\n",
    "\t\tprint(\"... story continues ...\")\n",
    "\t\tpoints += 2\n",
    "\t\tscene2()\n",
    "    \n",
    "\telif decision == \"D\":\n",
    "\t\tprint(\"... story continues ...\")\n",
    "\t\tpoints += 3\n",
    "\t\tscene2()\n",
    "\n",
    "scene1()\n"
   ]
  },
  {
   "cell_type": "code",
   "execution_count": null,
   "metadata": {},
   "outputs": [],
   "source": []
  }
 ],
 "metadata": {
  "kernelspec": {
   "display_name": "Python 3",
   "language": "python",
   "name": "python3"
  },
  "language_info": {
   "codemirror_mode": {
    "name": "ipython",
    "version": 3
   },
   "file_extension": ".py",
   "mimetype": "text/x-python",
   "name": "python",
   "nbconvert_exporter": "python",
   "pygments_lexer": "ipython3",
   "version": "3.7.4"
  }
 },
 "nbformat": 4,
 "nbformat_minor": 4
}
